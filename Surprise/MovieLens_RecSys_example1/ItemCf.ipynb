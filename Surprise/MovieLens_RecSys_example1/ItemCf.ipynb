{
 "cells": [
  {
   "cell_type": "code",
   "execution_count": 1,
   "metadata": {},
   "outputs": [],
   "source": [
    "import sys\n",
    "import random\n",
    "import math\n",
    "import os\n",
    "from operator import itemgetter"
   ]
  },
  {
   "cell_type": "code",
   "execution_count": 2,
   "metadata": {},
   "outputs": [],
   "source": [
    "random.seed(0)"
   ]
  },
  {
   "cell_type": "code",
   "execution_count": 3,
   "metadata": {},
   "outputs": [],
   "source": [
    "class ItemBasedCF(object):\n",
    "    ''' TopN recommendation - Item Based Collaborative Filtering '''\n",
    "\n",
    "    def __init__(self):\n",
    "        self.trainset = {}\n",
    "        self.testset = {}\n",
    "\n",
    "        self.n_sim_movie = 20\n",
    "        self.n_rec_movie = 10\n",
    "\n",
    "        self.movie_sim_mat = {}\n",
    "        self.movie_popular = {}\n",
    "        self.movie_count = 0\n",
    "\n",
    "        print('Similar movie number = %d' % self.n_sim_movie, file=sys.stderr)\n",
    "        print('Recommended movie number = %d' %\n",
    "              self.n_rec_movie, file=sys.stderr)\n",
    "\n",
    "    @staticmethod\n",
    "    def loadfile(filename):\n",
    "        ''' load a file, return a generator. '''\n",
    "        fp = open(filename, 'r')\n",
    "        for i, line in enumerate(fp):\n",
    "            yield line.strip('\\r\\n')\n",
    "            if i % 100000 == 0:\n",
    "                print ('loading %s(%s)' % (filename, i), file=sys.stderr)\n",
    "        fp.close()\n",
    "        print ('load %s succ' % filename, file=sys.stderr)\n",
    "\n",
    "    def generate_dataset(self, filename, pivot=0.7):\n",
    "        ''' load rating data and split it to training set and test set '''\n",
    "        trainset_len = 0\n",
    "        testset_len = 0\n",
    "\n",
    "        for line in self.loadfile(filename):\n",
    "            user, movie, rating, _ = line.split('::')\n",
    "            # split the data by pivot\n",
    "            if random.random() < pivot:\n",
    "                self.trainset.setdefault(user, {})\n",
    "                self.trainset[user][movie] = int(rating)\n",
    "                trainset_len += 1\n",
    "            else:\n",
    "                self.testset.setdefault(user, {})\n",
    "                self.testset[user][movie] = int(rating)\n",
    "                testset_len += 1\n",
    "\n",
    "        print ('split training set and test set succ', file=sys.stderr)\n",
    "        print ('train set = %s' % trainset_len, file=sys.stderr)\n",
    "        print ('test set = %s' % testset_len, file=sys.stderr)\n",
    "\n",
    "    def calc_movie_sim(self):\n",
    "        ''' calculate movie similarity matrix '''\n",
    "        print('counting movies number and popularity...', file=sys.stderr)\n",
    "\n",
    "        for user, movies in self.trainset.items():\n",
    "            for movie in movies:\n",
    "                # count item popularity\n",
    "                if movie not in self.movie_popular:\n",
    "                    self.movie_popular[movie] = 0\n",
    "                self.movie_popular[movie] += 1\n",
    "\n",
    "        print('count movies number and popularity succ', file=sys.stderr)\n",
    "\n",
    "        # save the total number of movies\n",
    "        self.movie_count = len(self.movie_popular)\n",
    "        print('total movie number = %d' % self.movie_count, file=sys.stderr)\n",
    "\n",
    "        # count co-rated users between items\n",
    "        itemsim_mat = self.movie_sim_mat\n",
    "        print('building co-rated users matrix...', file=sys.stderr)\n",
    "\n",
    "        for user, movies in self.trainset.items():\n",
    "            for m1 in movies:\n",
    "                for m2 in movies:\n",
    "                    if m1 == m2:\n",
    "                        continue\n",
    "                    itemsim_mat.setdefault(m1, {})\n",
    "                    itemsim_mat[m1].setdefault(m2, 0)\n",
    "                    itemsim_mat[m1][m2] += 1\n",
    "\n",
    "        print('build co-rated users matrix succ', file=sys.stderr)\n",
    "\n",
    "        # calculate similarity matrix\n",
    "        print('calculating movie similarity matrix...', file=sys.stderr)\n",
    "        simfactor_count = 0\n",
    "        PRINT_STEP = 2000000\n",
    "\n",
    "        for m1, related_movies in itemsim_mat.items():\n",
    "            for m2, count in related_movies.items():\n",
    "                itemsim_mat[m1][m2] = count / math.sqrt(\n",
    "                    self.movie_popular[m1] * self.movie_popular[m2])\n",
    "                simfactor_count += 1\n",
    "                if simfactor_count % PRINT_STEP == 0:\n",
    "                    print('calculating movie similarity factor(%d)' %\n",
    "                          simfactor_count, file=sys.stderr)\n",
    "\n",
    "        print('calculate movie similarity matrix(similarity factor) succ',\n",
    "              file=sys.stderr)\n",
    "        print('Total similarity factor number = %d' %\n",
    "              simfactor_count, file=sys.stderr)\n",
    "\n",
    "    def recommend(self, user):\n",
    "        ''' Find K similar movies and recommend N movies. '''\n",
    "        K = self.n_sim_movie\n",
    "        N = self.n_rec_movie\n",
    "        rank = {}\n",
    "        watched_movies = self.trainset[user]\n",
    "\n",
    "        for movie, rating in watched_movies.items():\n",
    "            for related_movie, similarity_factor in sorted(self.movie_sim_mat[movie].items(),\n",
    "                                                           key=itemgetter(1), reverse=True)[:K]:\n",
    "                if related_movie in watched_movies:\n",
    "                    continue\n",
    "                rank.setdefault(related_movie, 0)\n",
    "                rank[related_movie] += similarity_factor * rating\n",
    "        # return the N best movies\n",
    "        return sorted(rank.items(), key=itemgetter(1), reverse=True)[:N]\n",
    "\n",
    "    def evaluate(self):\n",
    "        ''' print evaluation result: precision, recall, coverage and popularity '''\n",
    "        print('Evaluation start...', file=sys.stderr)\n",
    "\n",
    "        N = self.n_rec_movie\n",
    "        #  varables for precision and recall\n",
    "        hit = 0\n",
    "        rec_count = 0\n",
    "        test_count = 0\n",
    "        # varables for coverage\n",
    "        all_rec_movies = set()\n",
    "        # varables for popularity\n",
    "        popular_sum = 0\n",
    "\n",
    "        for i, user in enumerate(self.trainset):\n",
    "            if i % 500 == 0:\n",
    "                print ('recommended for %d users' % i, file=sys.stderr)\n",
    "            test_movies = self.testset.get(user, {})\n",
    "            rec_movies = self.recommend(user)\n",
    "            for movie, _ in rec_movies:\n",
    "                if movie in test_movies:\n",
    "                    hit += 1\n",
    "                all_rec_movies.add(movie)\n",
    "                popular_sum += math.log(1 + self.movie_popular[movie])\n",
    "            rec_count += N\n",
    "            test_count += len(test_movies)\n",
    "\n",
    "        precision = hit / (1.0 * rec_count)\n",
    "        recall = hit / (1.0 * test_count)\n",
    "        coverage = len(all_rec_movies) / (1.0 * self.movie_count)\n",
    "        popularity = popular_sum / (1.0 * rec_count)\n",
    "\n",
    "        print ('precision=%.4f\\trecall=%.4f\\tcoverage=%.4f\\tpopularity=%.4f' %\n",
    "               (precision, recall, coverage, popularity), file=sys.stderr)"
   ]
  },
  {
   "cell_type": "code",
   "execution_count": 9,
   "metadata": {},
   "outputs": [],
   "source": [
    "ratingfile = os.path.join('ml-1m', 'ratings.dat')"
   ]
  },
  {
   "cell_type": "code",
   "execution_count": null,
   "metadata": {},
   "outputs": [],
   "source": []
  },
  {
   "cell_type": "code",
   "execution_count": 5,
   "metadata": {},
   "outputs": [
    {
     "name": "stderr",
     "output_type": "stream",
     "text": [
      "Similar movie number = 20\n",
      "Recommended movie number = 10\n"
     ]
    }
   ],
   "source": [
    "itemcf = ItemBasedCF()"
   ]
  },
  {
   "cell_type": "code",
   "execution_count": 6,
   "metadata": {},
   "outputs": [
    {
     "name": "stderr",
     "output_type": "stream",
     "text": [
      "loading ml-1m\\ratings.dat(0)\n",
      "loading ml-1m\\ratings.dat(100000)\n",
      "loading ml-1m\\ratings.dat(200000)\n",
      "loading ml-1m\\ratings.dat(300000)\n",
      "loading ml-1m\\ratings.dat(400000)\n",
      "loading ml-1m\\ratings.dat(500000)\n",
      "loading ml-1m\\ratings.dat(600000)\n",
      "loading ml-1m\\ratings.dat(700000)\n",
      "loading ml-1m\\ratings.dat(800000)\n",
      "loading ml-1m\\ratings.dat(900000)\n",
      "loading ml-1m\\ratings.dat(1000000)\n",
      "load ml-1m\\ratings.dat succ\n",
      "split training set and test set succ\n",
      "train set = 700450\n",
      "test set = 299759\n"
     ]
    }
   ],
   "source": [
    "itemcf.generate_dataset(ratingfile)"
   ]
  },
  {
   "cell_type": "code",
   "execution_count": 7,
   "metadata": {},
   "outputs": [
    {
     "name": "stderr",
     "output_type": "stream",
     "text": [
      "counting movies number and popularity...\n",
      "count movies number and popularity succ\n",
      "total movie number = 3666\n",
      "building co-rated users matrix...\n",
      "build co-rated users matrix succ\n",
      "calculating movie similarity matrix...\n",
      "calculating movie similarity factor(2000000)\n",
      "calculating movie similarity factor(4000000)\n",
      "calculating movie similarity factor(6000000)\n",
      "calculating movie similarity factor(8000000)\n",
      "calculating movie similarity factor(10000000)\n",
      "calculate movie similarity matrix(similarity factor) succ\n",
      "Total similarity factor number = 10174814\n"
     ]
    }
   ],
   "source": [
    "itemcf.calc_movie_sim()"
   ]
  },
  {
   "cell_type": "code",
   "execution_count": 8,
   "metadata": {},
   "outputs": [
    {
     "name": "stderr",
     "output_type": "stream",
     "text": [
      "Evaluation start...\n",
      "recommended for 0 users\n",
      "recommended for 500 users\n",
      "recommended for 1000 users\n",
      "recommended for 1500 users\n",
      "recommended for 2000 users\n",
      "recommended for 2500 users\n",
      "recommended for 3000 users\n",
      "recommended for 3500 users\n",
      "recommended for 4000 users\n",
      "recommended for 4500 users\n",
      "recommended for 5000 users\n",
      "recommended for 5500 users\n",
      "recommended for 6000 users\n",
      "precision=0.3792\trecall=0.0764\tcoverage=0.1729\tpopularity=7.1730\n"
     ]
    }
   ],
   "source": [
    "itemcf.evaluate()"
   ]
  },
  {
   "cell_type": "code",
   "execution_count": null,
   "metadata": {},
   "outputs": [],
   "source": []
  }
 ],
 "metadata": {
  "kernelspec": {
   "display_name": "tensorflow",
   "language": "python",
   "name": "tensorflow"
  },
  "language_info": {
   "codemirror_mode": {
    "name": "ipython",
    "version": 3
   },
   "file_extension": ".py",
   "mimetype": "text/x-python",
   "name": "python",
   "nbconvert_exporter": "python",
   "pygments_lexer": "ipython3",
   "version": "3.6.8"
  }
 },
 "nbformat": 4,
 "nbformat_minor": 2
}
