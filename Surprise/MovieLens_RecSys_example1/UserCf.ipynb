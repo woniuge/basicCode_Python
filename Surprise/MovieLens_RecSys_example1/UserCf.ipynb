{
 "cells": [
  {
   "cell_type": "code",
   "execution_count": 12,
   "metadata": {},
   "outputs": [],
   "source": [
    "import sys\n",
    "import random\n",
    "import math\n",
    "import os\n",
    "from operator import itemgetter"
   ]
  },
  {
   "cell_type": "code",
   "execution_count": 13,
   "metadata": {},
   "outputs": [],
   "source": [
    "random.seed(0)"
   ]
  },
  {
   "cell_type": "code",
   "execution_count": 14,
   "metadata": {},
   "outputs": [],
   "source": [
    "class UserBasedCF(object):\n",
    "    ''' TopN recommendation - User Based Collaborative Filtering '''\n",
    "\n",
    "    def __init__(self):\n",
    "        self.trainset = {}\n",
    "        self.testset = {}\n",
    "\n",
    "        self.n_sim_user = 20\n",
    "        self.n_rec_movie = 10\n",
    "\n",
    "        self.user_sim_mat = {}\n",
    "        self.movie_popular = {}\n",
    "        self.movie_count = 0\n",
    "\n",
    "        print ('Similar user number = %d' % self.n_sim_user, file=sys.stderr)\n",
    "        print ('recommended movie number = %d' %\n",
    "               self.n_rec_movie, file=sys.stderr)\n",
    "\n",
    "    @staticmethod\n",
    "    def loadfile(filename):\n",
    "        ''' load a file, return a generator. '''\n",
    "        fp = open(filename, 'r')\n",
    "        for i, line in enumerate(fp):\n",
    "            yield line.strip('\\r\\n')\n",
    "            if i % 100000 == 0:\n",
    "                print ('loading %s(%s)' % (filename, i), file=sys.stderr)\n",
    "        fp.close()\n",
    "        print ('load %s succ' % filename, file=sys.stderr)\n",
    "\n",
    "    def generate_dataset(self, filename, pivot=0.7):\n",
    "        ''' load rating data and split it to training set and test set '''\n",
    "        trainset_len = 0\n",
    "        testset_len = 0\n",
    "\n",
    "        for line in self.loadfile(filename):\n",
    "            user, movie, rating, _ = line.split('::')\n",
    "            # split the data by pivot\n",
    "            if random.random() < pivot:\n",
    "                self.trainset.setdefault(user, {})\n",
    "                self.trainset[user][movie] = int(rating)\n",
    "                trainset_len += 1\n",
    "            else:\n",
    "                self.testset.setdefault(user, {})\n",
    "                self.testset[user][movie] = int(rating)\n",
    "                testset_len += 1\n",
    "\n",
    "        print ('split training set and test set succ', file=sys.stderr)\n",
    "        print ('train set = %s' % trainset_len, file=sys.stderr)\n",
    "        print ('test set = %s' % testset_len, file=sys.stderr)\n",
    "\n",
    "    def calc_user_sim(self):\n",
    "        ''' calculate user similarity matrix '''\n",
    "        # build inverse table for item-users\n",
    "        # key=movieID, value=list of userIDs who have seen this movie\n",
    "        print ('building movie-users inverse table...', file=sys.stderr)\n",
    "        movie2users = dict()\n",
    "\n",
    "        for user, movies in self.trainset.items():\n",
    "            for movie in movies:\n",
    "                # inverse table for item-users\n",
    "                if movie not in movie2users:\n",
    "                    movie2users[movie] = set()\n",
    "                movie2users[movie].add(user)\n",
    "                # count item popularity at the same time\n",
    "                if movie not in self.movie_popular:\n",
    "                    self.movie_popular[movie] = 0\n",
    "                self.movie_popular[movie] += 1\n",
    "        print ('build movie-users inverse table succ', file=sys.stderr)\n",
    "\n",
    "        # save the total movie number, which will be used in evaluation\n",
    "        self.movie_count = len(movie2users)\n",
    "        print ('total movie number = %d' % self.movie_count, file=sys.stderr)\n",
    "\n",
    "        # count co-rated items between users\n",
    "        usersim_mat = self.user_sim_mat\n",
    "        print ('building user co-rated movies matrix...', file=sys.stderr)\n",
    "\n",
    "        for movie, users in movie2users.items():\n",
    "            for u in users:\n",
    "                for v in users:\n",
    "                    if u == v:\n",
    "                        continue\n",
    "                    usersim_mat.setdefault(u, {})\n",
    "                    usersim_mat[u].setdefault(v, 0)\n",
    "                    usersim_mat[u][v] += 1\n",
    "        print ('build user co-rated movies matrix succ', file=sys.stderr)\n",
    "\n",
    "        # calculate similarity matrix\n",
    "        print ('calculating user similarity matrix...', file=sys.stderr)\n",
    "        simfactor_count = 0\n",
    "        PRINT_STEP = 2000000\n",
    "\n",
    "        for u, related_users in usersim_mat.items():\n",
    "            for v, count in related_users.items():\n",
    "                usersim_mat[u][v] = count / math.sqrt(\n",
    "                    len(self.trainset[u]) * len(self.trainset[v]))\n",
    "                simfactor_count += 1\n",
    "                if simfactor_count % PRINT_STEP == 0:\n",
    "                    print ('calculating user similarity factor(%d)' %\n",
    "                           simfactor_count, file=sys.stderr)\n",
    "\n",
    "        print ('calculate user similarity matrix(similarity factor) succ',\n",
    "               file=sys.stderr)\n",
    "        print ('Total similarity factor number = %d' %\n",
    "               simfactor_count, file=sys.stderr)\n",
    "\n",
    "    def recommend(self, user):\n",
    "        ''' Find K similar users and recommend N movies. '''\n",
    "        K = self.n_sim_user\n",
    "        N = self.n_rec_movie\n",
    "        rank = dict()\n",
    "        watched_movies = self.trainset[user]\n",
    "\n",
    "        # 这里的sorted函数是python内建函数，参数有iterable--可迭代对象；cmp--比较的函数，；key--用来比较的关键字；reverse--排序规则\n",
    "        for similar_user, similarity_factor in sorted(self.user_sim_mat[user].items(),\n",
    "                                                      key=itemgetter(1), reverse=True)[0:K]:   #itemgetter为一个函数，表示获取对象第一个域的值；对于字典而言是获取key部分的\n",
    "            for movie in self.trainset[similar_user]:\n",
    "                if movie in watched_movies:\n",
    "                    continue\n",
    "                # predict the user's \"interest\" for each movie\n",
    "                rank.setdefault(movie, 0)\n",
    "                rank[movie] += similarity_factor\n",
    "        # return the N best movies\n",
    "        return sorted(rank.items(), key=itemgetter(1), reverse=True)[0:N]\n",
    "\n",
    "\n",
    "    # 评估的标准：准确率、召回率、覆盖度、受欢迎度。\n",
    "    def evaluate(self):\n",
    "        ''' print evaluation result: precision, recall, coverage and popularity '''\n",
    "        print ('Evaluation start...', file=sys.stderr)\n",
    "\n",
    "        N = self.n_rec_movie\n",
    "        #  varables for precision and recall\n",
    "        hit = 0\n",
    "        rec_count = 0\n",
    "        test_count = 0\n",
    "        # varables for coverage\n",
    "        all_rec_movies = set()\n",
    "        # varables for popularity\n",
    "        popular_sum = 0\n",
    "\n",
    "        for i, user in enumerate(self.trainset):\n",
    "            if i % 500 == 0:\n",
    "                print ('recommended for %d users' % i, file=sys.stderr)\n",
    "            test_movies = self.testset.get(user, {})\n",
    "            rec_movies = self.recommend(user)\n",
    "            for movie, _ in rec_movies:\n",
    "                if movie in test_movies:\n",
    "                    hit += 1\n",
    "                all_rec_movies.add(movie)\n",
    "                popular_sum += math.log(1 + self.movie_popular[movie])\n",
    "            rec_count += N\n",
    "            test_count += len(test_movies)\n",
    "\n",
    "        precision = hit / (1.0 * rec_count)\n",
    "        recall = hit / (1.0 * test_count)\n",
    "        coverage = len(all_rec_movies) / (1.0 * self.movie_count)\n",
    "        popularity = popular_sum / (1.0 * rec_count)\n",
    "\n",
    "        print ('precision=%.4f\\trecall=%.4f\\tcoverage=%.4f\\tpopularity=%.4f' %\n",
    "               (precision, recall, coverage, popularity), file=sys.stderr)"
   ]
  },
  {
   "cell_type": "code",
   "execution_count": 15,
   "metadata": {},
   "outputs": [],
   "source": [
    "ratingfile = os.path.join('ml-1m', 'ratings.dat')"
   ]
  },
  {
   "cell_type": "code",
   "execution_count": 16,
   "metadata": {},
   "outputs": [
    {
     "name": "stderr",
     "output_type": "stream",
     "text": [
      "Similar user number = 20\n",
      "recommended movie number = 10\n"
     ]
    }
   ],
   "source": [
    "usercf = UserBasedCF()"
   ]
  },
  {
   "cell_type": "code",
   "execution_count": 17,
   "metadata": {},
   "outputs": [
    {
     "name": "stderr",
     "output_type": "stream",
     "text": [
      "loading ml-1m\\ratings.dat(0)\n",
      "loading ml-1m\\ratings.dat(100000)\n",
      "loading ml-1m\\ratings.dat(200000)\n",
      "loading ml-1m\\ratings.dat(300000)\n",
      "loading ml-1m\\ratings.dat(400000)\n",
      "loading ml-1m\\ratings.dat(500000)\n",
      "loading ml-1m\\ratings.dat(600000)\n",
      "loading ml-1m\\ratings.dat(700000)\n",
      "loading ml-1m\\ratings.dat(800000)\n",
      "loading ml-1m\\ratings.dat(900000)\n",
      "loading ml-1m\\ratings.dat(1000000)\n",
      "load ml-1m\\ratings.dat succ\n",
      "split training set and test set succ\n",
      "train set = 700450\n",
      "test set = 299759\n"
     ]
    }
   ],
   "source": [
    "usercf.generate_dataset(ratingfile)"
   ]
  },
  {
   "cell_type": "code",
   "execution_count": 18,
   "metadata": {},
   "outputs": [
    {
     "name": "stderr",
     "output_type": "stream",
     "text": [
      "building movie-users inverse table...\n",
      "build movie-users inverse table succ\n",
      "total movie number = 3666\n",
      "building user co-rated movies matrix...\n",
      "build user co-rated movies matrix succ\n",
      "calculating user similarity matrix...\n",
      "calculating user similarity factor(2000000)\n",
      "calculating user similarity factor(4000000)\n",
      "calculating user similarity factor(6000000)\n",
      "calculating user similarity factor(8000000)\n",
      "calculating user similarity factor(10000000)\n",
      "calculating user similarity factor(12000000)\n",
      "calculating user similarity factor(14000000)\n",
      "calculating user similarity factor(16000000)\n",
      "calculating user similarity factor(18000000)\n",
      "calculating user similarity factor(20000000)\n",
      "calculating user similarity factor(22000000)\n",
      "calculating user similarity factor(24000000)\n",
      "calculating user similarity factor(26000000)\n",
      "calculating user similarity factor(28000000)\n",
      "calculating user similarity factor(30000000)\n",
      "calculating user similarity factor(32000000)\n",
      "calculate user similarity matrix(similarity factor) succ\n",
      "Total similarity factor number = 32663554\n"
     ]
    }
   ],
   "source": [
    "usercf.calc_user_sim()"
   ]
  },
  {
   "cell_type": "code",
   "execution_count": 19,
   "metadata": {},
   "outputs": [
    {
     "name": "stderr",
     "output_type": "stream",
     "text": [
      "Evaluation start...\n",
      "recommended for 0 users\n",
      "recommended for 500 users\n",
      "recommended for 1000 users\n",
      "recommended for 1500 users\n",
      "recommended for 2000 users\n",
      "recommended for 2500 users\n",
      "recommended for 3000 users\n",
      "recommended for 3500 users\n",
      "recommended for 4000 users\n",
      "recommended for 4500 users\n",
      "recommended for 5000 users\n",
      "recommended for 5500 users\n",
      "recommended for 6000 users\n",
      "precision=0.3766\trecall=0.0759\tcoverage=0.3175\tpopularity=6.9195\n"
     ]
    }
   ],
   "source": [
    "usercf.evaluate()"
   ]
  },
  {
   "cell_type": "code",
   "execution_count": null,
   "metadata": {},
   "outputs": [],
   "source": []
  },
  {
   "cell_type": "code",
   "execution_count": null,
   "metadata": {},
   "outputs": [],
   "source": []
  }
 ],
 "metadata": {
  "kernelspec": {
   "display_name": "tensorflow",
   "language": "python",
   "name": "tensorflow"
  },
  "language_info": {
   "codemirror_mode": {
    "name": "ipython",
    "version": 3
   },
   "file_extension": ".py",
   "mimetype": "text/x-python",
   "name": "python",
   "nbconvert_exporter": "python",
   "pygments_lexer": "ipython3",
   "version": "3.6.8"
  }
 },
 "nbformat": 4,
 "nbformat_minor": 2
}
