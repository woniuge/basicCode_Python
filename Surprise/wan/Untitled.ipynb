{
 "cells": [
  {
   "cell_type": "code",
   "execution_count": 8,
   "metadata": {},
   "outputs": [
    {
     "name": "stdout",
     "output_type": "stream",
     "text": [
      "因为 \t preposition\n",
      "我 \t pronoun\n",
      "比较 \t adverb\n",
      "懒 \t adjective\n",
      "， \t punctuation mark\n",
      "所以 \t conjunction\n",
      "我 \t pronoun\n",
      "就 \t adverb\n",
      "只 \t adverb\n",
      "是 \t verb\n",
      "修改 \t verb\n",
      "了 \t particle\n",
      "这 \t pronoun\n",
      "句 \t classifier\n",
      "话 \t noun\n",
      "， \t punctuation mark\n",
      "代码 \t noun\n",
      "还 \t adverb\n",
      "是 \t verb\n",
      "原 \t distinguishing word\n",
      "博客 \t noun\n",
      "的 \t particle\n"
     ]
    }
   ],
   "source": [
    "import sys\n",
    "#reload(sys)\n",
    "#sys.setdefaultencoding(\"utf-8\")\n",
    "\n",
    "import pynlpir\n",
    "\n",
    "pynlpir.open()\n",
    "\n",
    "s = \"因为我比较懒，所以我就只是修改了这句话，代码还是原博客的\"\n",
    "segments = pynlpir.segment(s)\n",
    "for segment in segments:\n",
    "    print(segment[0],'\\t',segment[1])\n",
    "    \n",
    "pynlpir.close()"
   ]
  },
  {
   "cell_type": "code",
   "execution_count": null,
   "metadata": {},
   "outputs": [],
   "source": []
  }
 ],
 "metadata": {
  "kernelspec": {
   "display_name": "tensorflow",
   "language": "python",
   "name": "tensorflow"
  },
  "language_info": {
   "codemirror_mode": {
    "name": "ipython",
    "version": 3
   },
   "file_extension": ".py",
   "mimetype": "text/x-python",
   "name": "python",
   "nbconvert_exporter": "python",
   "pygments_lexer": "ipython3",
   "version": "3.6.8"
  }
 },
 "nbformat": 4,
 "nbformat_minor": 2
}
