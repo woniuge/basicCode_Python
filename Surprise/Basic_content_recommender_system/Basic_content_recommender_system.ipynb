{
 "cells": [
  {
   "cell_type": "markdown",
   "metadata": {},
   "source": [
    "This repository contains a Basic Product Recommender Systen to be used with native and AWS EMR Hadoop. It's actually a collection of mapper and reducer files to be run on different stages in Hadoop or Amazon's AWS Elastic MapReduce.\n",
    "\n",
    "This recommendation engine is based on Similarity matching (cosine similarity) algorithm.\n"
   ]
  },
  {
   "cell_type": "markdown",
   "metadata": {},
   "source": [
    "Stage-1: Calculating Average User Ratings\n",
    "\n",
    "    Because User Ratings are essential part in recommending a movie, so prior to further processing, average user ratings are needed, therefore we calculate average rating and total ratings number per movie id and store the interim result in [output](output)/stage-1-out.txt file."
   ]
  },
  {
   "cell_type": "code",
   "execution_count": 1,
   "metadata": {},
   "outputs": [],
   "source": [
    "import sys\n",
    "import csv"
   ]
  },
  {
   "cell_type": "code",
   "execution_count": 4,
   "metadata": {},
   "outputs": [],
   "source": [
    "for row in csv.reader(iter(sys.stdin.readline, '')):\n",
    "    if row[0] == 'userId':\n",
    "        continue\n",
    "    \n",
    "    print('%s,%s' % (row[1], row[2]))"
   ]
  },
  {
   "cell_type": "code",
   "execution_count": 5,
   "metadata": {},
   "outputs": [
    {
     "name": "stdout",
     "output_type": "stream",
     "text": [
      "movieId,rating,totalRatings,type\n"
     ]
    }
   ],
   "source": [
    "movie = None\n",
    "accumulatedRatings = 0\n",
    "totalRatings = 0\n",
    "\n",
    "print('movieId,rating,totalRatings,type')"
   ]
  },
  {
   "cell_type": "code",
   "execution_count": null,
   "metadata": {},
   "outputs": [],
   "source": []
  }
 ],
 "metadata": {
  "kernelspec": {
   "display_name": "tensorflow",
   "language": "python",
   "name": "tensorflow"
  },
  "language_info": {
   "codemirror_mode": {
    "name": "ipython",
    "version": 3
   },
   "file_extension": ".py",
   "mimetype": "text/x-python",
   "name": "python",
   "nbconvert_exporter": "python",
   "pygments_lexer": "ipython3",
   "version": "3.6.8"
  }
 },
 "nbformat": 4,
 "nbformat_minor": 2
}
